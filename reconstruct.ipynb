{
 "cells": [
  {
   "cell_type": "code",
   "execution_count": 1,
   "metadata": {},
   "outputs": [],
   "source": [
    "import pandas as pd\n",
    "\n",
    "data = pd.read_json(\"hf://datasets/HannahRoseKirk/prism-alignment/utterances.jsonl\", lines=True)"
   ]
  },
  {
   "cell_type": "code",
   "execution_count": 2,
   "metadata": {},
   "outputs": [],
   "source": [
    "def reconstruct_conversations(desired_model, df):\n",
    "    # filter data by model\n",
    "    filtered_data = df[df['model_name'] == desired_model]\n",
    "    \n",
    "    conversation_ids = filtered_data['conversation_id'].unique()\n",
    "    reconstructed_conversations = []\n",
    "\n",
    "    for conversation_id in conversation_ids:\n",
    "        # get data for conversation\n",
    "        conversation_data = filtered_data[filtered_data['conversation_id'] == conversation_id]\n",
    "        \n",
    "        # sort by turn\n",
    "        conversation_data = conversation_data.sort_values(by='turn')\n",
    "        \n",
    "        conversation_messages = []\n",
    "        turns = conversation_data['turn'].unique()\n",
    "        \n",
    "        for turn in turns:\n",
    "            turn_data = conversation_data[conversation_data['turn'] == turn]\n",
    "\n",
    "            # select only chosen response\n",
    "            chosen_row = turn_data[turn_data['if_chosen'] == True]\n",
    "            \n",
    "            if not chosen_row.empty:\n",
    "                # get user prompt and model response\n",
    "                user_prompt = chosen_row['user_prompt'].iloc[0]\n",
    "                model_response = chosen_row['model_response'].iloc[0]\n",
    "                \n",
    "                # append messages\n",
    "                conversation_messages.append({'role': 'user', 'content': user_prompt})\n",
    "                conversation_messages.append({'role': 'assistant', 'content': model_response})\n",
    "            else:\n",
    "                # print(f\"no chosen response for conversation {conversation_id}, turn {turn}\")\n",
    "                continue\n",
    "        \n",
    "        # append reconstructed conversation\n",
    "        reconstructed_conversations.append({'conversation_id': conversation_id, 'messages': conversation_messages})\n",
    "\n",
    "    # create dataframe and save\n",
    "    reconstructed_df = pd.DataFrame(reconstructed_conversations)\n",
    "    file_name_clean = desired_model.replace('/', '-')\n",
    "    file_name = f\"{file_name_clean}_reconstructed_conversations.csv\"\n",
    "    reconstructed_df.to_csv(f\"data/{file_name}\", index=False)"
   ]
  },
  {
   "cell_type": "code",
   "execution_count": 3,
   "metadata": {},
   "outputs": [],
   "source": [
    "models = list(data['model_name'].unique())\n",
    "for model in models:\n",
    "    reconstruct_conversations(model, data)"
   ]
  }
 ],
 "metadata": {
  "kernelspec": {
   "display_name": "Python 3",
   "language": "python",
   "name": "python3"
  },
  "language_info": {
   "codemirror_mode": {
    "name": "ipython",
    "version": 3
   },
   "file_extension": ".py",
   "mimetype": "text/x-python",
   "name": "python",
   "nbconvert_exporter": "python",
   "pygments_lexer": "ipython3",
   "version": "3.12.5"
  }
 },
 "nbformat": 4,
 "nbformat_minor": 2
}
